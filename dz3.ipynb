{
 "cells": [
  {
   "cell_type": "code",
   "execution_count": 480,
   "metadata": {},
   "outputs": [],
   "source": [
    "import pandas as pd\n",
    "import re\n",
    "import matplotlib.pyplot as plt\n",
    "import seaborn as sns\n",
    "import numpy as np\n",
    "from sklearn.model_selection import train_test_split\n",
    "from sklearn.linear_model import LinearRegression\n",
    "from sklearn.preprocessing import MinMaxScaler\n",
    "from sklearn.linear_model import LogisticRegression\n",
    "from sklearn.feature_selection import RFE\n",
    "from sklearn.preprocessing import StandardScaler\n",
    "from sklearn.model_selection import train_test_split\n",
    "from sklearn.linear_model import LogisticRegression\n",
    "from sklearn.preprocessing import StandardScaler\n",
    "from sklearn.linear_model import Ridge\n",
    "from sklearn.metrics import mean_squared_error, r2_score\n",
    "from sklearn.model_selection import cross_val_score\n",
    "from sklearn.model_selection import GridSearchCV\n",
    "from sklearn.linear_model import LinearRegression\n",
    "from sklearn.model_selection import GridSearchCV, KFold\n",
    "from sklearn.linear_model import SGDRegressor\n",
    "from collections import Counter\n",
    "from scipy.optimize import minimize\n",
    "from sklearn.svm import SVC\n",
    "from sklearn.neighbors import KNeighborsClassifier\n",
    "from sklearn.naive_bayes import GaussianNB\n",
    "from sklearn.tree import DecisionTreeClassifier\n",
    "from sklearn.discriminant_analysis import LinearDiscriminantAnalysis\n",
    "from scipy.linalg import eigh as sp_eigh\n",
    "from sklearn.preprocessing import LabelEncoder\n",
    "from sklearn.metrics import accuracy_score\n",
    "from sklearn.model_selection import train_test_split\n",
    "from sklearn.linear_model import LogisticRegression\n",
    "from sklearn.discriminant_analysis import LinearDiscriminantAnalysis\n",
    "from sklearn.metrics import confusion_matrix\n",
    "from sklearn.model_selection import GridSearchCV\n",
    "from sklearn.model_selection import StratifiedKFold"
   ]
  },
  {
   "cell_type": "code",
   "execution_count": null,
   "metadata": {},
   "outputs": [],
   "source": []
  },
  {
   "cell_type": "code",
   "execution_count": 481,
   "metadata": {},
   "outputs": [
    {
     "data": {
      "text/html": [
       "<div>\n",
       "<style scoped>\n",
       "    .dataframe tbody tr th:only-of-type {\n",
       "        vertical-align: middle;\n",
       "    }\n",
       "\n",
       "    .dataframe tbody tr th {\n",
       "        vertical-align: top;\n",
       "    }\n",
       "\n",
       "    .dataframe thead th {\n",
       "        text-align: right;\n",
       "    }\n",
       "</style>\n",
       "<table border=\"1\" class=\"dataframe\">\n",
       "  <thead>\n",
       "    <tr style=\"text-align: right;\">\n",
       "      <th></th>\n",
       "      <th>age</th>\n",
       "      <th>sex</th>\n",
       "      <th>cp</th>\n",
       "      <th>trestbps</th>\n",
       "      <th>chol</th>\n",
       "      <th>fbs</th>\n",
       "      <th>restecg</th>\n",
       "      <th>thalach</th>\n",
       "      <th>exang</th>\n",
       "      <th>oldpeak</th>\n",
       "      <th>slope</th>\n",
       "      <th>ca</th>\n",
       "      <th>thal</th>\n",
       "      <th>target</th>\n",
       "    </tr>\n",
       "  </thead>\n",
       "  <tbody>\n",
       "    <tr>\n",
       "      <th>0</th>\n",
       "      <td>52</td>\n",
       "      <td>1</td>\n",
       "      <td>0</td>\n",
       "      <td>125</td>\n",
       "      <td>212</td>\n",
       "      <td>0</td>\n",
       "      <td>1</td>\n",
       "      <td>168</td>\n",
       "      <td>0</td>\n",
       "      <td>1.0</td>\n",
       "      <td>2</td>\n",
       "      <td>2</td>\n",
       "      <td>3</td>\n",
       "      <td>0</td>\n",
       "    </tr>\n",
       "    <tr>\n",
       "      <th>1</th>\n",
       "      <td>53</td>\n",
       "      <td>1</td>\n",
       "      <td>0</td>\n",
       "      <td>140</td>\n",
       "      <td>203</td>\n",
       "      <td>1</td>\n",
       "      <td>0</td>\n",
       "      <td>155</td>\n",
       "      <td>1</td>\n",
       "      <td>3.1</td>\n",
       "      <td>0</td>\n",
       "      <td>0</td>\n",
       "      <td>3</td>\n",
       "      <td>0</td>\n",
       "    </tr>\n",
       "    <tr>\n",
       "      <th>2</th>\n",
       "      <td>70</td>\n",
       "      <td>1</td>\n",
       "      <td>0</td>\n",
       "      <td>145</td>\n",
       "      <td>174</td>\n",
       "      <td>0</td>\n",
       "      <td>1</td>\n",
       "      <td>125</td>\n",
       "      <td>1</td>\n",
       "      <td>2.6</td>\n",
       "      <td>0</td>\n",
       "      <td>0</td>\n",
       "      <td>3</td>\n",
       "      <td>0</td>\n",
       "    </tr>\n",
       "    <tr>\n",
       "      <th>3</th>\n",
       "      <td>61</td>\n",
       "      <td>1</td>\n",
       "      <td>0</td>\n",
       "      <td>148</td>\n",
       "      <td>203</td>\n",
       "      <td>0</td>\n",
       "      <td>1</td>\n",
       "      <td>161</td>\n",
       "      <td>0</td>\n",
       "      <td>0.0</td>\n",
       "      <td>2</td>\n",
       "      <td>1</td>\n",
       "      <td>3</td>\n",
       "      <td>0</td>\n",
       "    </tr>\n",
       "    <tr>\n",
       "      <th>4</th>\n",
       "      <td>62</td>\n",
       "      <td>0</td>\n",
       "      <td>0</td>\n",
       "      <td>138</td>\n",
       "      <td>294</td>\n",
       "      <td>1</td>\n",
       "      <td>1</td>\n",
       "      <td>106</td>\n",
       "      <td>0</td>\n",
       "      <td>1.9</td>\n",
       "      <td>1</td>\n",
       "      <td>3</td>\n",
       "      <td>2</td>\n",
       "      <td>0</td>\n",
       "    </tr>\n",
       "    <tr>\n",
       "      <th>...</th>\n",
       "      <td>...</td>\n",
       "      <td>...</td>\n",
       "      <td>...</td>\n",
       "      <td>...</td>\n",
       "      <td>...</td>\n",
       "      <td>...</td>\n",
       "      <td>...</td>\n",
       "      <td>...</td>\n",
       "      <td>...</td>\n",
       "      <td>...</td>\n",
       "      <td>...</td>\n",
       "      <td>...</td>\n",
       "      <td>...</td>\n",
       "      <td>...</td>\n",
       "    </tr>\n",
       "    <tr>\n",
       "      <th>1020</th>\n",
       "      <td>59</td>\n",
       "      <td>1</td>\n",
       "      <td>1</td>\n",
       "      <td>140</td>\n",
       "      <td>221</td>\n",
       "      <td>0</td>\n",
       "      <td>1</td>\n",
       "      <td>164</td>\n",
       "      <td>1</td>\n",
       "      <td>0.0</td>\n",
       "      <td>2</td>\n",
       "      <td>0</td>\n",
       "      <td>2</td>\n",
       "      <td>1</td>\n",
       "    </tr>\n",
       "    <tr>\n",
       "      <th>1021</th>\n",
       "      <td>60</td>\n",
       "      <td>1</td>\n",
       "      <td>0</td>\n",
       "      <td>125</td>\n",
       "      <td>258</td>\n",
       "      <td>0</td>\n",
       "      <td>0</td>\n",
       "      <td>141</td>\n",
       "      <td>1</td>\n",
       "      <td>2.8</td>\n",
       "      <td>1</td>\n",
       "      <td>1</td>\n",
       "      <td>3</td>\n",
       "      <td>0</td>\n",
       "    </tr>\n",
       "    <tr>\n",
       "      <th>1022</th>\n",
       "      <td>47</td>\n",
       "      <td>1</td>\n",
       "      <td>0</td>\n",
       "      <td>110</td>\n",
       "      <td>275</td>\n",
       "      <td>0</td>\n",
       "      <td>0</td>\n",
       "      <td>118</td>\n",
       "      <td>1</td>\n",
       "      <td>1.0</td>\n",
       "      <td>1</td>\n",
       "      <td>1</td>\n",
       "      <td>2</td>\n",
       "      <td>0</td>\n",
       "    </tr>\n",
       "    <tr>\n",
       "      <th>1023</th>\n",
       "      <td>50</td>\n",
       "      <td>0</td>\n",
       "      <td>0</td>\n",
       "      <td>110</td>\n",
       "      <td>254</td>\n",
       "      <td>0</td>\n",
       "      <td>0</td>\n",
       "      <td>159</td>\n",
       "      <td>0</td>\n",
       "      <td>0.0</td>\n",
       "      <td>2</td>\n",
       "      <td>0</td>\n",
       "      <td>2</td>\n",
       "      <td>1</td>\n",
       "    </tr>\n",
       "    <tr>\n",
       "      <th>1024</th>\n",
       "      <td>54</td>\n",
       "      <td>1</td>\n",
       "      <td>0</td>\n",
       "      <td>120</td>\n",
       "      <td>188</td>\n",
       "      <td>0</td>\n",
       "      <td>1</td>\n",
       "      <td>113</td>\n",
       "      <td>0</td>\n",
       "      <td>1.4</td>\n",
       "      <td>1</td>\n",
       "      <td>1</td>\n",
       "      <td>3</td>\n",
       "      <td>0</td>\n",
       "    </tr>\n",
       "  </tbody>\n",
       "</table>\n",
       "<p>1025 rows × 14 columns</p>\n",
       "</div>"
      ],
      "text/plain": [
       "      age  sex  cp  trestbps  chol  fbs  restecg  thalach  exang  oldpeak  \\\n",
       "0      52    1   0       125   212    0        1      168      0      1.0   \n",
       "1      53    1   0       140   203    1        0      155      1      3.1   \n",
       "2      70    1   0       145   174    0        1      125      1      2.6   \n",
       "3      61    1   0       148   203    0        1      161      0      0.0   \n",
       "4      62    0   0       138   294    1        1      106      0      1.9   \n",
       "...   ...  ...  ..       ...   ...  ...      ...      ...    ...      ...   \n",
       "1020   59    1   1       140   221    0        1      164      1      0.0   \n",
       "1021   60    1   0       125   258    0        0      141      1      2.8   \n",
       "1022   47    1   0       110   275    0        0      118      1      1.0   \n",
       "1023   50    0   0       110   254    0        0      159      0      0.0   \n",
       "1024   54    1   0       120   188    0        1      113      0      1.4   \n",
       "\n",
       "      slope  ca  thal  target  \n",
       "0         2   2     3       0  \n",
       "1         0   0     3       0  \n",
       "2         0   0     3       0  \n",
       "3         2   1     3       0  \n",
       "4         1   3     2       0  \n",
       "...     ...  ..   ...     ...  \n",
       "1020      2   0     2       1  \n",
       "1021      1   1     3       0  \n",
       "1022      1   1     2       0  \n",
       "1023      2   0     2       1  \n",
       "1024      1   1     3       0  \n",
       "\n",
       "[1025 rows x 14 columns]"
      ]
     },
     "execution_count": 481,
     "metadata": {},
     "output_type": "execute_result"
    }
   ],
   "source": [
    "df=pd.read_csv(r'C:\\Users\\yaneg\\.git\\py\\ml\\heart.csv')\n",
    "df"
   ]
  },
  {
   "cell_type": "markdown",
   "metadata": {},
   "source": [
    "EDA"
   ]
  },
  {
   "cell_type": "code",
   "execution_count": 482,
   "metadata": {},
   "outputs": [
    {
     "name": "stderr",
     "output_type": "stream",
     "text": [
      "c:\\Users\\yaneg\\anaconda3\\Lib\\site-packages\\seaborn\\_oldcore.py:1498: FutureWarning: is_categorical_dtype is deprecated and will be removed in a future version. Use isinstance(dtype, CategoricalDtype) instead\n",
      "  if pd.api.types.is_categorical_dtype(vector):\n",
      "c:\\Users\\yaneg\\anaconda3\\Lib\\site-packages\\seaborn\\_oldcore.py:1498: FutureWarning: is_categorical_dtype is deprecated and will be removed in a future version. Use isinstance(dtype, CategoricalDtype) instead\n",
      "  if pd.api.types.is_categorical_dtype(vector):\n",
      "c:\\Users\\yaneg\\anaconda3\\Lib\\site-packages\\seaborn\\_oldcore.py:1498: FutureWarning: is_categorical_dtype is deprecated and will be removed in a future version. Use isinstance(dtype, CategoricalDtype) instead\n",
      "  if pd.api.types.is_categorical_dtype(vector):\n"
     ]
    },
    {
     "data": {
      "image/png": "[encoded data removed]",
      "text/plain": [
       "<Figure size 640x480 with 1 Axes>"
      ]
     },
     "metadata": {},
     "output_type": "display_data"
    }
   ],
   "source": [
    "sns.countplot(x=\"target\", data=df)\n",
    "plt.show()"
   ]
  },
  {
   "cell_type": "code",
   "execution_count": 483,
   "metadata": {},
   "outputs": [
    {
     "data": {
      "image/png": "[encoded data removed]",
      "text/plain": [
       "<Figure size 2000x600 with 1 Axes>"
      ]
     },
     "metadata": {},
     "output_type": "display_data"
    }
   ],
   "source": [
    "pd.crosstab(df.age,df.target).plot(kind=\"bar\", figsize=(20, 6))\n",
    "plt.title('Heart Disease Frequency for Ages')\n",
    "plt.xlabel('Age')\n",
    "plt.ylabel('Frequency')\n",
    "plt.show()\n"
   ]
  },
  {
   "cell_type": "code",
   "execution_count": 484,
   "metadata": {},
   "outputs": [
    {
     "data": {
      "image/png": "[encoded data removed]",
      "text/plain": [
       "<Figure size 640x480 with 1 Axes>"
      ]
     },
     "metadata": {},
     "output_type": "display_data"
    }
   ],
   "source": [
    "plt.scatter(x=df.age[df.target==1], y=df.thalach[(df.target==1)])\n",
    "plt.scatter(x=df.age[df.target==0], y=df.thalach[(df.target==0)])\n",
    "plt.legend([\"Disease\", \"Not Disease\"])\n",
    "plt.xlabel(\"Age\")\n",
    "plt.ylabel(\"Maximum Heart Rate\")\n",
    "plt.show()"
   ]
  },
  {
   "cell_type": "markdown",
   "metadata": {},
   "source": [
    "Можно увидеть что с увеличением возраста количество заболеваний увеличивается, в то время как их отсутсвие снижается"
   ]
  },
  {
   "cell_type": "code",
   "execution_count": null,
   "metadata": {},
   "outputs": [
    {
     "data": {
      "image/png": "[encoded data removed]",
      "text/plain": [
       "<Figure size 2000x600 with 1 Axes>"
      ]
     },
     "metadata": {},
     "output_type": "display_data"
    }
   ],
   "source": [
    "ct = pd.crosstab(df.slope, df.target, normalize='index') \n",
    "\n",
    "# Построение столбчатой диаграммы\n",
    "ct.plot(kind='bar', figsize=(20, 6))\n",
    "plt.title('Heart Disease Frequency for slope')\n",
    "plt.xlabel('slope')\n",
    "plt.ylabel('Frequency')\n",
    "plt.legend(title='Target', labels=['No Heart Disease', 'Heart Disease'])\n",
    "plt.show()\n",
    "# для большей наглядности я построил графики, показывающие частоту "
   ]
  },
  {
   "cell_type": "markdown",
   "metadata": {},
   "source": [
    "Можно увидеть, что с увеличением показателя, частота значительно увеличивается"
   ]
  },
  {
   "cell_type": "code",
   "execution_count": null,
   "metadata": {},
   "outputs": [
    {
     "data": {
      "image/png": "[encoded data removed]",
      "text/plain": [
       "<Figure size 2000x600 with 1 Axes>"
      ]
     },
     "metadata": {},
     "output_type": "display_data"
    }
   ],
   "source": [
    "ct = pd.crosstab(df.cp, df.target, normalize='index') \n",
    "\n",
    "# Построение столбчатой диаграммы\n",
    "ct.plot(kind='bar', figsize=(20, 6))\n",
    "plt.title('Heart Disease Frequency for chest pain type')\n",
    "plt.xlabel('chest pain type')\n",
    "plt.ylabel('Frequency')\n",
    "plt.legend(title='Target', labels=['No Heart Disease', 'Heart Disease'])\n",
    "plt.show()"
   ]
  },
  {
   "cell_type": "markdown",
   "metadata": {},
   "source": [
    "В данном случае можем увидеть, что взаимосвязь носит отнюдь нелинейный характер, частота сначала увеличивается, потом начинает снижаться нобходимо будет ввести dummy"
   ]
  },
  {
   "cell_type": "code",
   "execution_count": null,
   "metadata": {},
   "outputs": [
    {
     "data": {
      "image/png": "[encoded data removed]",
      "text/plain": [
       "<Figure size 2000x600 with 1 Axes>"
      ]
     },
     "metadata": {},
     "output_type": "display_data"
    }
   ],
   "source": [
    "ct = pd.crosstab(df.thal, df.target, normalize='index') \n",
    "\n",
    "# Построение столбчатой диаграммы\n",
    "ct.plot(kind='bar', figsize=(20, 6))\n",
    "plt.title('Heart Disease Frequency for Thal')\n",
    "plt.xlabel('Thal')\n",
    "plt.ylabel('Frequency')\n",
    "plt.legend(title='Target', labels=['No Heart Disease', 'Heart Disease'])\n",
    "plt.show()"
   ]
  },
  {
   "cell_type": "markdown",
   "metadata": {},
   "source": [
    "Результат нельзя назвать однозначным, как таковая зависимость отсутвует"
   ]
  },
  {
   "cell_type": "code",
   "execution_count": null,
   "metadata": {},
   "outputs": [
    {
     "data": {
      "image/png": "[encoded data removed]",
      "text/plain": [
       "<Figure size 2000x600 with 1 Axes>"
      ]
     },
     "metadata": {},
     "output_type": "display_data"
    }
   ],
   "source": [
    "ct = pd.crosstab(df.slope, df.target, normalize='index') \n",
    "\n",
    "# Построение столбчатой диаграммы\n",
    "ct.plot(kind='bar', figsize=(20, 6))\n",
    "plt.title('Heart Disease Frequency for Slope')\n",
    "plt.xlabel('Slope')\n",
    "plt.ylabel('Frequency')\n",
    "plt.legend(title='Target', labels=['No Heart Disease', 'Heart Disease'])\n",
    "plt.show()"
   ]
  },
  {
   "cell_type": "markdown",
   "metadata": {},
   "source": [
    "В данном случае также нельзя увидеть однозначную связь"
   ]
  },
  {
   "cell_type": "code",
   "execution_count": null,
   "metadata": {},
   "outputs": [
    {
     "data": {
      "image/png": "[encoded data removed]",
      "text/plain": [
       "<Figure size 1500x600 with 1 Axes>"
      ]
     },
     "metadata": {},
     "output_type": "display_data"
    }
   ],
   "source": [
    "pd.crosstab(df.sex,df.target).plot(kind=\"bar\", figsize=(15, 6))\n",
    "plt.title('Heart Disease Frequency for Sex')\n",
    "plt.xlabel('Sex (0 = Female, 1 = Male)')\n",
    "plt.xticks(rotation=0)\n",
    "plt.legend([\"Haven't Disease\", \"Have Disease\"])\n",
    "plt.ylabel('Frequency')\n",
    "plt.show()"
   ]
  },
  {
   "cell_type": "markdown",
   "metadata": {},
   "source": [
    "Можно увидеть что у женщим заболевание встречается реже"
   ]
  },
  {
   "cell_type": "markdown",
   "metadata": {},
   "source": [
    "FEATURE ENGINEERING"
   ]
  },
  {
   "cell_type": "markdown",
   "metadata": {},
   "source": [
    "Пропущенные данные отсутсвуют\n",
    "cp,thal,slope\n",
    "Данные признаки необходимо перевести в количественные, поскольку нельзя сказать, что изменение числа внутри имеют однозначную связь с целевым признакам, поэтому лучше будет перевести их в дамми  "
   ]
  },
  {
   "cell_type": "code",
   "execution_count": null,
   "metadata": {},
   "outputs": [
    {
     "data": {
      "text/html": [
       "<div>\n",
       "<style scoped>\n",
       "    .dataframe tbody tr th:only-of-type {\n",
       "        vertical-align: middle;\n",
       "    }\n",
       "\n",
       "    .dataframe tbody tr th {\n",
       "        vertical-align: top;\n",
       "    }\n",
       "\n",
       "    .dataframe thead th {\n",
       "        text-align: right;\n",
       "    }\n",
       "</style>\n",
       "<table border=\"1\" class=\"dataframe\">\n",
       "  <thead>\n",
       "    <tr style=\"text-align: right;\">\n",
       "      <th></th>\n",
       "      <th>age</th>\n",
       "      <th>sex</th>\n",
       "      <th>trestbps</th>\n",
       "      <th>chol</th>\n",
       "      <th>fbs</th>\n",
       "      <th>restecg</th>\n",
       "      <th>thalach</th>\n",
       "      <th>exang</th>\n",
       "      <th>oldpeak</th>\n",
       "      <th>ca</th>\n",
       "      <th>...</th>\n",
       "      <th>cp_1</th>\n",
       "      <th>cp_2</th>\n",
       "      <th>cp_3</th>\n",
       "      <th>thal_0</th>\n",
       "      <th>thal_1</th>\n",
       "      <th>thal_2</th>\n",
       "      <th>thal_3</th>\n",
       "      <th>slope_0</th>\n",
       "      <th>slope_1</th>\n",
       "      <th>slope_2</th>\n",
       "    </tr>\n",
       "  </thead>\n",
       "  <tbody>\n",
       "    <tr>\n",
       "      <th>0</th>\n",
       "      <td>52</td>\n",
       "      <td>1</td>\n",
       "      <td>125</td>\n",
       "      <td>212</td>\n",
       "      <td>0</td>\n",
       "      <td>1</td>\n",
       "      <td>168</td>\n",
       "      <td>0</td>\n",
       "      <td>1.0</td>\n",
       "      <td>2</td>\n",
       "      <td>...</td>\n",
       "      <td>False</td>\n",
       "      <td>False</td>\n",
       "      <td>False</td>\n",
       "      <td>False</td>\n",
       "      <td>False</td>\n",
       "      <td>False</td>\n",
       "      <td>True</td>\n",
       "      <td>False</td>\n",
       "      <td>False</td>\n",
       "      <td>True</td>\n",
       "    </tr>\n",
       "    <tr>\n",
       "      <th>1</th>\n",
       "      <td>53</td>\n",
       "      <td>1</td>\n",
       "      <td>140</td>\n",
       "      <td>203</td>\n",
       "      <td>1</td>\n",
       "      <td>0</td>\n",
       "      <td>155</td>\n",
       "      <td>1</td>\n",
       "      <td>3.1</td>\n",
       "      <td>0</td>\n",
       "      <td>...</td>\n",
       "      <td>False</td>\n",
       "      <td>False</td>\n",
       "      <td>False</td>\n",
       "      <td>False</td>\n",
       "      <td>False</td>\n",
       "      <td>False</td>\n",
       "      <td>True</td>\n",
       "      <td>True</td>\n",
       "      <td>False</td>\n",
       "      <td>False</td>\n",
       "    </tr>\n",
       "    <tr>\n",
       "      <th>2</th>\n",
       "      <td>70</td>\n",
       "      <td>1</td>\n",
       "      <td>145</td>\n",
       "      <td>174</td>\n",
       "      <td>0</td>\n",
       "      <td>1</td>\n",
       "      <td>125</td>\n",
       "      <td>1</td>\n",
       "      <td>2.6</td>\n",
       "      <td>0</td>\n",
       "      <td>...</td>\n",
       "      <td>False</td>\n",
       "      <td>False</td>\n",
       "      <td>False</td>\n",
       "      <td>False</td>\n",
       "      <td>False</td>\n",
       "      <td>False</td>\n",
       "      <td>True</td>\n",
       "      <td>True</td>\n",
       "      <td>False</td>\n",
       "      <td>False</td>\n",
       "    </tr>\n",
       "    <tr>\n",
       "      <th>3</th>\n",
       "      <td>61</td>\n",
       "      <td>1</td>\n",
       "      <td>148</td>\n",
       "      <td>203</td>\n",
       "      <td>0</td>\n",
       "      <td>1</td>\n",
       "      <td>161</td>\n",
       "      <td>0</td>\n",
       "      <td>0.0</td>\n",
       "      <td>1</td>\n",
       "      <td>...</td>\n",
       "      <td>False</td>\n",
       "      <td>False</td>\n",
       "      <td>False</td>\n",
       "      <td>False</td>\n",
       "      <td>False</td>\n",
       "      <td>False</td>\n",
       "      <td>True</td>\n",
       "      <td>False</td>\n",
       "      <td>False</td>\n",
       "      <td>True</td>\n",
       "    </tr>\n",
       "    <tr>\n",
       "      <th>4</th>\n",
       "      <td>62</td>\n",
       "      <td>0</td>\n",
       "      <td>138</td>\n",
       "      <td>294</td>\n",
       "      <td>1</td>\n",
       "      <td>1</td>\n",
       "      <td>106</td>\n",
       "      <td>0</td>\n",
       "      <td>1.9</td>\n",
       "      <td>3</td>\n",
       "      <td>...</td>\n",
       "      <td>False</td>\n",
       "      <td>False</td>\n",
       "      <td>False</td>\n",
       "      <td>False</td>\n",
       "      <td>False</td>\n",
       "      <td>True</td>\n",
       "      <td>False</td>\n",
       "      <td>False</td>\n",
       "      <td>True</td>\n",
       "      <td>False</td>\n",
       "    </tr>\n",
       "    <tr>\n",
       "      <th>...</th>\n",
       "      <td>...</td>\n",
       "      <td>...</td>\n",
       "      <td>...</td>\n",
       "      <td>...</td>\n",
       "      <td>...</td>\n",
       "      <td>...</td>\n",
       "      <td>...</td>\n",
       "      <td>...</td>\n",
       "      <td>...</td>\n",
       "      <td>...</td>\n",
       "      <td>...</td>\n",
       "      <td>...</td>\n",
       "      <td>...</td>\n",
       "      <td>...</td>\n",
       "      <td>...</td>\n",
       "      <td>...</td>\n",
       "      <td>...</td>\n",
       "      <td>...</td>\n",
       "      <td>...</td>\n",
       "      <td>...</td>\n",
       "      <td>...</td>\n",
       "    </tr>\n",
       "    <tr>\n",
       "      <th>1020</th>\n",
       "      <td>59</td>\n",
       "      <td>1</td>\n",
       "      <td>140</td>\n",
       "      <td>221</td>\n",
       "      <td>0</td>\n",
       "      <td>1</td>\n",
       "      <td>164</td>\n",
       "      <td>1</td>\n",
       "      <td>0.0</td>\n",
       "      <td>0</td>\n",
       "      <td>...</td>\n",
       "      <td>True</td>\n",
       "      <td>False</td>\n",
       "      <td>False</td>\n",
       "      <td>False</td>\n",
       "      <td>False</td>\n",
       "      <td>True</td>\n",
       "      <td>False</td>\n",
       "      <td>False</td>\n",
       "      <td>False</td>\n",
       "      <td>True</td>\n",
       "    </tr>\n",
       "    <tr>\n",
       "      <th>1021</th>\n",
       "      <td>60</td>\n",
       "      <td>1</td>\n",
       "      <td>125</td>\n",
       "      <td>258</td>\n",
       "      <td>0</td>\n",
       "      <td>0</td>\n",
       "      <td>141</td>\n",
       "      <td>1</td>\n",
       "      <td>2.8</td>\n",
       "      <td>1</td>\n",
       "      <td>...</td>\n",
       "      <td>False</td>\n",
       "      <td>False</td>\n",
       "      <td>False</td>\n",
       "      <td>False</td>\n",
       "      <td>False</td>\n",
       "      <td>False</td>\n",
       "      <td>True</td>\n",
       "      <td>False</td>\n",
       "      <td>True</td>\n",
       "      <td>False</td>\n",
       "    </tr>\n",
       "    <tr>\n",
       "      <th>1022</th>\n",
       "      <td>47</td>\n",
       "      <td>1</td>\n",
       "      <td>110</td>\n",
       "      <td>275</td>\n",
       "      <td>0</td>\n",
       "      <td>0</td>\n",
       "      <td>118</td>\n",
       "      <td>1</td>\n",
       "      <td>1.0</td>\n",
       "      <td>1</td>\n",
       "      <td>...</td>\n",
       "      <td>False</td>\n",
       "      <td>False</td>\n",
       "      <td>False</td>\n",
       "      <td>False</td>\n",
       "      <td>False</td>\n",
       "      <td>True</td>\n",
       "      <td>False</td>\n",
       "      <td>False</td>\n",
       "      <td>True</td>\n",
       "      <td>False</td>\n",
       "    </tr>\n",
       "    <tr>\n",
       "      <th>1023</th>\n",
       "      <td>50</td>\n",
       "      <td>0</td>\n",
       "      <td>110</td>\n",
       "      <td>254</td>\n",
       "      <td>0</td>\n",
       "      <td>0</td>\n",
       "      <td>159</td>\n",
       "      <td>0</td>\n",
       "      <td>0.0</td>\n",
       "      <td>0</td>\n",
       "      <td>...</td>\n",
       "      <td>False</td>\n",
       "      <td>False</td>\n",
       "      <td>False</td>\n",
       "      <td>False</td>\n",
       "      <td>False</td>\n",
       "      <td>True</td>\n",
       "      <td>False</td>\n",
       "      <td>False</td>\n",
       "      <td>False</td>\n",
       "      <td>True</td>\n",
       "    </tr>\n",
       "    <tr>\n",
       "      <th>1024</th>\n",
       "      <td>54</td>\n",
       "      <td>1</td>\n",
       "      <td>120</td>\n",
       "      <td>188</td>\n",
       "      <td>0</td>\n",
       "      <td>1</td>\n",
       "      <td>113</td>\n",
       "      <td>0</td>\n",
       "      <td>1.4</td>\n",
       "      <td>1</td>\n",
       "      <td>...</td>\n",
       "      <td>False</td>\n",
       "      <td>False</td>\n",
       "      <td>False</td>\n",
       "      <td>False</td>\n",
       "      <td>False</td>\n",
       "      <td>False</td>\n",
       "      <td>True</td>\n",
       "      <td>False</td>\n",
       "      <td>True</td>\n",
       "      <td>False</td>\n",
       "    </tr>\n",
       "  </tbody>\n",
       "</table>\n",
       "<p>1025 rows × 22 columns</p>\n",
       "</div>"
      ],
      "text/plain": [
       "      age  sex  trestbps  chol  fbs  restecg  thalach  exang  oldpeak  ca  \\\n",
       "0      52    1       125   212    0        1      168      0      1.0   2   \n",
       "1      53    1       140   203    1        0      155      1      3.1   0   \n",
       "2      70    1       145   174    0        1      125      1      2.6   0   \n",
       "3      61    1       148   203    0        1      161      0      0.0   1   \n",
       "4      62    0       138   294    1        1      106      0      1.9   3   \n",
       "...   ...  ...       ...   ...  ...      ...      ...    ...      ...  ..   \n",
       "1020   59    1       140   221    0        1      164      1      0.0   0   \n",
       "1021   60    1       125   258    0        0      141      1      2.8   1   \n",
       "1022   47    1       110   275    0        0      118      1      1.0   1   \n",
       "1023   50    0       110   254    0        0      159      0      0.0   0   \n",
       "1024   54    1       120   188    0        1      113      0      1.4   1   \n",
       "\n",
       "      ...   cp_1   cp_2   cp_3  thal_0  thal_1  thal_2  thal_3  slope_0  \\\n",
       "0     ...  False  False  False   False   False   False    True    False   \n",
       "1     ...  False  False  False   False   False   False    True     True   \n",
       "2     ...  False  False  False   False   False   False    True     True   \n",
       "3     ...  False  False  False   False   False   False    True    False   \n",
       "4     ...  False  False  False   False   False    True   False    False   \n",
       "...   ...    ...    ...    ...     ...     ...     ...     ...      ...   \n",
       "1020  ...   True  False  False   False   False    True   False    False   \n",
       "1021  ...  False  False  False   False   False   False    True    False   \n",
       "1022  ...  False  False  False   False   False    True   False    False   \n",
       "1023  ...  False  False  False   False   False    True   False    False   \n",
       "1024  ...  False  False  False   False   False   False    True    False   \n",
       "\n",
       "      slope_1  slope_2  \n",
       "0       False     True  \n",
       "1       False    False  \n",
       "2       False    False  \n",
       "3       False     True  \n",
       "4        True    False  \n",
       "...       ...      ...  \n",
       "1020    False     True  \n",
       "1021     True    False  \n",
       "1022     True    False  \n",
       "1023    False     True  \n",
       "1024     True    False  \n",
       "\n",
       "[1025 rows x 22 columns]"
      ]
     },
     "execution_count": 5,
     "metadata": {},
     "output_type": "execute_result"
    }
   ],
   "source": [
    "cp_dum = pd.get_dummies(df['cp'], prefix = \"cp\")\n",
    "thal_dum = pd.get_dummies(df['thal'], prefix = \"thal\")\n",
    "slope_dum = pd.get_dummies(df['slope'], prefix = \"slope\")\n",
    "\n",
    "frames = [df, cp_dum, thal_dum, slope_dum]\n",
    "df = pd.concat(frames, axis = 1)\n",
    "df.head()\n",
    "df=df.drop(columns=['cp','thal','slope'])\n",
    "df"
   ]
  },
  {
   "cell_type": "code",
   "execution_count": null,
   "metadata": {},
   "outputs": [
    {
     "data": {
      "text/plain": [
       "target\n",
       "1    526\n",
       "0    499\n",
       "Name: count, dtype: int64"
      ]
     },
     "execution_count": 6,
     "metadata": {},
     "output_type": "execute_result"
    }
   ],
   "source": [
    "\n",
    "df.target.value_counts()"
   ]
  },
  {
   "cell_type": "code",
   "execution_count": null,
   "metadata": {},
   "outputs": [
    {
     "data": {
      "text/html": [
       "<div>\n",
       "<style scoped>\n",
       "    .dataframe tbody tr th:only-of-type {\n",
       "        vertical-align: middle;\n",
       "    }\n",
       "\n",
       "    .dataframe tbody tr th {\n",
       "        vertical-align: top;\n",
       "    }\n",
       "\n",
       "    .dataframe thead th {\n",
       "        text-align: right;\n",
       "    }\n",
       "</style>\n",
       "<table border=\"1\" class=\"dataframe\">\n",
       "  <thead>\n",
       "    <tr style=\"text-align: right;\">\n",
       "      <th></th>\n",
       "      <th>age</th>\n",
       "      <th>sex</th>\n",
       "      <th>trestbps</th>\n",
       "      <th>chol</th>\n",
       "      <th>fbs</th>\n",
       "      <th>restecg</th>\n",
       "      <th>thalach</th>\n",
       "      <th>exang</th>\n",
       "      <th>oldpeak</th>\n",
       "      <th>ca</th>\n",
       "      <th>...</th>\n",
       "      <th>cp_1</th>\n",
       "      <th>cp_2</th>\n",
       "      <th>cp_3</th>\n",
       "      <th>thal_0</th>\n",
       "      <th>thal_1</th>\n",
       "      <th>thal_2</th>\n",
       "      <th>thal_3</th>\n",
       "      <th>slope_0</th>\n",
       "      <th>slope_1</th>\n",
       "      <th>slope_2</th>\n",
       "    </tr>\n",
       "    <tr>\n",
       "      <th>target</th>\n",
       "      <th></th>\n",
       "      <th></th>\n",
       "      <th></th>\n",
       "      <th></th>\n",
       "      <th></th>\n",
       "      <th></th>\n",
       "      <th></th>\n",
       "      <th></th>\n",
       "      <th></th>\n",
       "      <th></th>\n",
       "      <th></th>\n",
       "      <th></th>\n",
       "      <th></th>\n",
       "      <th></th>\n",
       "      <th></th>\n",
       "      <th></th>\n",
       "      <th></th>\n",
       "      <th></th>\n",
       "      <th></th>\n",
       "      <th></th>\n",
       "      <th></th>\n",
       "    </tr>\n",
       "  </thead>\n",
       "  <tbody>\n",
       "    <tr>\n",
       "      <th>0</th>\n",
       "      <td>56.569138</td>\n",
       "      <td>0.827655</td>\n",
       "      <td>134.106212</td>\n",
       "      <td>251.292585</td>\n",
       "      <td>0.164329</td>\n",
       "      <td>0.456914</td>\n",
       "      <td>139.130261</td>\n",
       "      <td>0.549098</td>\n",
       "      <td>1.600200</td>\n",
       "      <td>1.158317</td>\n",
       "      <td>...</td>\n",
       "      <td>0.066132</td>\n",
       "      <td>0.130261</td>\n",
       "      <td>0.052104</td>\n",
       "      <td>0.008016</td>\n",
       "      <td>0.086172</td>\n",
       "      <td>0.264529</td>\n",
       "      <td>0.641283</td>\n",
       "      <td>0.092184</td>\n",
       "      <td>0.649299</td>\n",
       "      <td>0.258517</td>\n",
       "    </tr>\n",
       "    <tr>\n",
       "      <th>1</th>\n",
       "      <td>52.408745</td>\n",
       "      <td>0.570342</td>\n",
       "      <td>129.245247</td>\n",
       "      <td>240.979087</td>\n",
       "      <td>0.134981</td>\n",
       "      <td>0.598859</td>\n",
       "      <td>158.585551</td>\n",
       "      <td>0.134981</td>\n",
       "      <td>0.569962</td>\n",
       "      <td>0.370722</td>\n",
       "      <td>...</td>\n",
       "      <td>0.254753</td>\n",
       "      <td>0.416350</td>\n",
       "      <td>0.096958</td>\n",
       "      <td>0.005703</td>\n",
       "      <td>0.039924</td>\n",
       "      <td>0.783270</td>\n",
       "      <td>0.171103</td>\n",
       "      <td>0.053232</td>\n",
       "      <td>0.300380</td>\n",
       "      <td>0.646388</td>\n",
       "    </tr>\n",
       "  </tbody>\n",
       "</table>\n",
       "<p>2 rows × 21 columns</p>\n",
       "</div>"
      ],
      "text/plain": [
       "              age       sex    trestbps        chol       fbs   restecg  \\\n",
       "target                                                                    \n",
       "0       56.569138  0.827655  134.106212  251.292585  0.164329  0.456914   \n",
       "1       52.408745  0.570342  129.245247  240.979087  0.134981  0.598859   \n",
       "\n",
       "           thalach     exang   oldpeak        ca  ...      cp_1      cp_2  \\\n",
       "target                                            ...                       \n",
       "0       139.130261  0.549098  1.600200  1.158317  ...  0.066132  0.130261   \n",
       "1       158.585551  0.134981  0.569962  0.370722  ...  0.254753  0.416350   \n",
       "\n",
       "            cp_3    thal_0    thal_1    thal_2    thal_3   slope_0   slope_1  \\\n",
       "target                                                                         \n",
       "0       0.052104  0.008016  0.086172  0.264529  0.641283  0.092184  0.649299   \n",
       "1       0.096958  0.005703  0.039924  0.783270  0.171103  0.053232  0.300380   \n",
       "\n",
       "         slope_2  \n",
       "target            \n",
       "0       0.258517  \n",
       "1       0.646388  \n",
       "\n",
       "[2 rows x 21 columns]"
      ]
     },
     "execution_count": 13,
     "metadata": {},
     "output_type": "execute_result"
    }
   ],
   "source": [
    "df.groupby('target').mean()"
   ]
  },
  {
   "cell_type": "code",
   "execution_count": null,
   "metadata": {},
   "outputs": [
    {
     "data": {
      "text/html": [
       "<div>\n",
       "<style scoped>\n",
       "    .dataframe tbody tr th:only-of-type {\n",
       "        vertical-align: middle;\n",
       "    }\n",
       "\n",
       "    .dataframe tbody tr th {\n",
       "        vertical-align: top;\n",
       "    }\n",
       "\n",
       "    .dataframe thead th {\n",
       "        text-align: right;\n",
       "    }\n",
       "</style>\n",
       "<table border=\"1\" class=\"dataframe\">\n",
       "  <thead>\n",
       "    <tr style=\"text-align: right;\">\n",
       "      <th></th>\n",
       "      <th>age</th>\n",
       "      <th>sex</th>\n",
       "      <th>cp</th>\n",
       "      <th>trestbps</th>\n",
       "      <th>chol</th>\n",
       "      <th>fbs</th>\n",
       "      <th>restecg</th>\n",
       "      <th>thalach</th>\n",
       "      <th>exang</th>\n",
       "      <th>oldpeak</th>\n",
       "      <th>slope</th>\n",
       "      <th>ca</th>\n",
       "      <th>thal</th>\n",
       "    </tr>\n",
       "  </thead>\n",
       "  <tbody>\n",
       "    <tr>\n",
       "      <th>527</th>\n",
       "      <td>62</td>\n",
       "      <td>0</td>\n",
       "      <td>0</td>\n",
       "      <td>124</td>\n",
       "      <td>209</td>\n",
       "      <td>0</td>\n",
       "      <td>1</td>\n",
       "      <td>163</td>\n",
       "      <td>0</td>\n",
       "      <td>0.0</td>\n",
       "      <td>2</td>\n",
       "      <td>0</td>\n",
       "      <td>2</td>\n",
       "    </tr>\n",
       "    <tr>\n",
       "      <th>359</th>\n",
       "      <td>53</td>\n",
       "      <td>0</td>\n",
       "      <td>2</td>\n",
       "      <td>128</td>\n",
       "      <td>216</td>\n",
       "      <td>0</td>\n",
       "      <td>0</td>\n",
       "      <td>115</td>\n",
       "      <td>0</td>\n",
       "      <td>0.0</td>\n",
       "      <td>2</td>\n",
       "      <td>0</td>\n",
       "      <td>0</td>\n",
       "    </tr>\n",
       "    <tr>\n",
       "      <th>447</th>\n",
       "      <td>55</td>\n",
       "      <td>1</td>\n",
       "      <td>0</td>\n",
       "      <td>160</td>\n",
       "      <td>289</td>\n",
       "      <td>0</td>\n",
       "      <td>0</td>\n",
       "      <td>145</td>\n",
       "      <td>1</td>\n",
       "      <td>0.8</td>\n",
       "      <td>1</td>\n",
       "      <td>1</td>\n",
       "      <td>3</td>\n",
       "    </tr>\n",
       "    <tr>\n",
       "      <th>31</th>\n",
       "      <td>50</td>\n",
       "      <td>0</td>\n",
       "      <td>1</td>\n",
       "      <td>120</td>\n",
       "      <td>244</td>\n",
       "      <td>0</td>\n",
       "      <td>1</td>\n",
       "      <td>162</td>\n",
       "      <td>0</td>\n",
       "      <td>1.1</td>\n",
       "      <td>2</td>\n",
       "      <td>0</td>\n",
       "      <td>2</td>\n",
       "    </tr>\n",
       "    <tr>\n",
       "      <th>621</th>\n",
       "      <td>48</td>\n",
       "      <td>1</td>\n",
       "      <td>0</td>\n",
       "      <td>130</td>\n",
       "      <td>256</td>\n",
       "      <td>1</td>\n",
       "      <td>0</td>\n",
       "      <td>150</td>\n",
       "      <td>1</td>\n",
       "      <td>0.0</td>\n",
       "      <td>2</td>\n",
       "      <td>2</td>\n",
       "      <td>3</td>\n",
       "    </tr>\n",
       "    <tr>\n",
       "      <th>...</th>\n",
       "      <td>...</td>\n",
       "      <td>...</td>\n",
       "      <td>...</td>\n",
       "      <td>...</td>\n",
       "      <td>...</td>\n",
       "      <td>...</td>\n",
       "      <td>...</td>\n",
       "      <td>...</td>\n",
       "      <td>...</td>\n",
       "      <td>...</td>\n",
       "      <td>...</td>\n",
       "      <td>...</td>\n",
       "      <td>...</td>\n",
       "    </tr>\n",
       "    <tr>\n",
       "      <th>668</th>\n",
       "      <td>29</td>\n",
       "      <td>1</td>\n",
       "      <td>1</td>\n",
       "      <td>130</td>\n",
       "      <td>204</td>\n",
       "      <td>0</td>\n",
       "      <td>0</td>\n",
       "      <td>202</td>\n",
       "      <td>0</td>\n",
       "      <td>0.0</td>\n",
       "      <td>2</td>\n",
       "      <td>0</td>\n",
       "      <td>2</td>\n",
       "    </tr>\n",
       "    <tr>\n",
       "      <th>239</th>\n",
       "      <td>62</td>\n",
       "      <td>0</td>\n",
       "      <td>0</td>\n",
       "      <td>150</td>\n",
       "      <td>244</td>\n",
       "      <td>0</td>\n",
       "      <td>1</td>\n",
       "      <td>154</td>\n",
       "      <td>1</td>\n",
       "      <td>1.4</td>\n",
       "      <td>1</td>\n",
       "      <td>0</td>\n",
       "      <td>2</td>\n",
       "    </tr>\n",
       "    <tr>\n",
       "      <th>312</th>\n",
       "      <td>70</td>\n",
       "      <td>1</td>\n",
       "      <td>2</td>\n",
       "      <td>160</td>\n",
       "      <td>269</td>\n",
       "      <td>0</td>\n",
       "      <td>1</td>\n",
       "      <td>112</td>\n",
       "      <td>1</td>\n",
       "      <td>2.9</td>\n",
       "      <td>1</td>\n",
       "      <td>1</td>\n",
       "      <td>3</td>\n",
       "    </tr>\n",
       "    <tr>\n",
       "      <th>211</th>\n",
       "      <td>67</td>\n",
       "      <td>1</td>\n",
       "      <td>0</td>\n",
       "      <td>100</td>\n",
       "      <td>299</td>\n",
       "      <td>0</td>\n",
       "      <td>0</td>\n",
       "      <td>125</td>\n",
       "      <td>1</td>\n",
       "      <td>0.9</td>\n",
       "      <td>1</td>\n",
       "      <td>2</td>\n",
       "      <td>2</td>\n",
       "    </tr>\n",
       "    <tr>\n",
       "      <th>861</th>\n",
       "      <td>64</td>\n",
       "      <td>1</td>\n",
       "      <td>2</td>\n",
       "      <td>140</td>\n",
       "      <td>335</td>\n",
       "      <td>0</td>\n",
       "      <td>1</td>\n",
       "      <td>158</td>\n",
       "      <td>0</td>\n",
       "      <td>0.0</td>\n",
       "      <td>2</td>\n",
       "      <td>0</td>\n",
       "      <td>2</td>\n",
       "    </tr>\n",
       "  </tbody>\n",
       "</table>\n",
       "<p>308 rows × 13 columns</p>\n",
       "</div>"
      ],
      "text/plain": [
       "     age  sex  cp  trestbps  chol  fbs  restecg  thalach  exang  oldpeak  \\\n",
       "527   62    0   0       124   209    0        1      163      0      0.0   \n",
       "359   53    0   2       128   216    0        0      115      0      0.0   \n",
       "447   55    1   0       160   289    0        0      145      1      0.8   \n",
       "31    50    0   1       120   244    0        1      162      0      1.1   \n",
       "621   48    1   0       130   256    1        0      150      1      0.0   \n",
       "..   ...  ...  ..       ...   ...  ...      ...      ...    ...      ...   \n",
       "668   29    1   1       130   204    0        0      202      0      0.0   \n",
       "239   62    0   0       150   244    0        1      154      1      1.4   \n",
       "312   70    1   2       160   269    0        1      112      1      2.9   \n",
       "211   67    1   0       100   299    0        0      125      1      0.9   \n",
       "861   64    1   2       140   335    0        1      158      0      0.0   \n",
       "\n",
       "     slope  ca  thal  \n",
       "527      2   0     2  \n",
       "359      2   0     0  \n",
       "447      1   1     3  \n",
       "31       2   0     2  \n",
       "621      2   2     3  \n",
       "..     ...  ..   ...  \n",
       "668      2   0     2  \n",
       "239      1   0     2  \n",
       "312      1   1     3  \n",
       "211      1   2     2  \n",
       "861      2   0     2  \n",
       "\n",
       "[308 rows x 13 columns]"
      ]
     },
     "execution_count": 51,
     "metadata": {},
     "output_type": "execute_result"
    }
   ],
   "source": [
    "y=df['target']\n",
    "X=df.drop(columns=['target'])\n",
    "# поделим выборку на тестовую и тренировочную\n",
    "X_train,X_test,y_train,y_test=train_test_split(X, y, test_size = 0.3, random_state=42)\n"
   ]
  },
  {
   "cell_type": "code",
   "execution_count": null,
   "metadata": {},
   "outputs": [
    {
     "data": {
      "text/plain": [
       "array([[ 0.84237819, -1.55379719, -0.92619093, ...,  0.97708096,\n",
       "        -0.72837545, -0.53812812],\n",
       "       [-0.14794181, -1.55379719,  0.98482748, ...,  0.97708096,\n",
       "        -0.72837545, -3.82185458],\n",
       "       [ 0.0721293 ,  0.64358464, -0.92619093, ..., -0.65214474,\n",
       "         0.21772092,  1.10373511],\n",
       "       ...,\n",
       "       [ 1.72266262,  0.64358464,  0.98482748, ..., -0.65214474,\n",
       "         0.21772092,  1.10373511],\n",
       "       [ 1.39255596,  0.64358464, -0.92619093, ..., -0.65214474,\n",
       "         1.1638173 , -0.53812812],\n",
       "       [ 1.0624493 ,  0.64358464,  0.98482748, ...,  0.97708096,\n",
       "        -0.72837545, -0.53812812]])"
      ]
     },
     "execution_count": 54,
     "metadata": {},
     "output_type": "execute_result"
    }
   ],
   "source": [
    "scaler = StandardScaler()  # воспользуемся стандартным трансформером\n",
    "\n",
    "# масштабируем обучающую выборку и запоминаем среднее, стандартное отклонение признаков\n",
    "X_train_scaled = scaler.fit_transform(X_train)\n",
    "\n",
    "# масштабируем тестовую выборку используя статистики обучающей выборки\n",
    "X_test_scaled = scaler.transform(X_test)\n"
   ]
  },
  {
   "cell_type": "markdown",
   "metadata": {},
   "source": [
    "Теперь я планирую самостоятельно реализовать метод k-ближайших соседей"
   ]
  },
  {
   "cell_type": "code",
   "execution_count": null,
   "metadata": {},
   "outputs": [],
   "source": [
    "class KNearestNeighbors:\n",
    "    def __init__(self, n_neighbors=5, regression=False):\n",
    "        self.n_neighbors = n_neighbors\n",
    "        self.regression = regression\n",
    "\n",
    "    def fit(self, X_train, y_train):\n",
    "        self.X_train, self.y_train = X_train, y_train\n",
    "\n",
    "    def _euclidean_distances(self, x_test_i):\n",
    "        return np.sqrt(np.sum((self.X_train - x_test_i) ** 2, axis=1))\n",
    "\n",
    "    def _make_prediction(self, x_test_i):\n",
    "        distances = self._euclidean_distances(x_test_i)   # distances to all neighbors\n",
    "        k_nearest_indexes = np.argsort(distances)[:self.n_neighbors]\n",
    "        targets = self.y_train[k_nearest_indexes]   # k-nearest neighbors target values\n",
    "\n",
    "        return np.mean(targets) if self.regression else np.bincount(targets).argmax()\n",
    "\n",
    "    def predict(self, X_test):\n",
    "        return np.array([self._make_prediction(x) for x in X_test])"
   ]
  },
  {
   "cell_type": "code",
   "execution_count": 495,
   "metadata": {},
   "outputs": [
    {
     "data": {
      "text/plain": [
       "0.9883268482490273"
      ]
     },
     "execution_count": 495,
     "metadata": {},
     "output_type": "execute_result"
    }
   ],
   "source": [
    "X1_train, X1_test, y1_train, y1_test = train_test_split(X.values, y.values, random_state=42)\n",
    "\n",
    "scorelist=[]\n",
    "#подберем гиперпараметр кросс валидации\n",
    "for i in range (1,20,1):\n",
    "    knn = KNearestNeighbors(n_neighbors=i)\n",
    "    knn.fit(X1_train, y1_train)\n",
    "    knn_pred_res = knn.predict(X1_test)\n",
    "    scorelist.append(accuracy_score(y1_test, knn_pred_res))\n",
    "\n",
    "best_neighboors=max(scorelist)\n",
    "best_n=1+scorelist.index(best_neighboors)\n",
    "knn_clf1 = KNearestNeighbors(n_neighbors=best_n)\n",
    "knn_clf1.fit(X1_train, y1_train)\n",
    "knn_clf_pred_res = knn_clf1.predict(X1_test)\n",
    "knn_clf_accuracy = accuracy_score(y1_test, knn_clf_pred_res)\n",
    "knn_clf_accuracy\n",
    "\n"
   ]
  },
  {
   "cell_type": "code",
   "execution_count": null,
   "metadata": {},
   "outputs": [
    {
     "data": {
      "text/plain": [
       "11"
      ]
     },
     "execution_count": 445,
     "metadata": {},
     "output_type": "execute_result"
    }
   ],
   "source": [
    "kf = KFold(n_splits=5, shuffle=True, random_state=42)\n",
    "model = KNearestNeighbors(n_neighbors=3)\n",
    "\n",
    "# Хранение результатов\n",
    "scores = []\n",
    "\n",
    "# Кросс-валидация\n",
    "def cross_validation(X, y, model, k=5):\n",
    "    kf = KFold(n_splits=k, shuffle=True, random_state=42) # Используем KFold для кросс-валидации\n",
    "    scores = []\n",
    "    for train_index, test_index in kf.split(X):\n",
    "        X_train, X_test = X[train_index], X[test_index]\n",
    "        y_train, y_test = y[train_index], y[test_index]\n",
    "        model.fit(X_train, y_train)\n",
    "        predictions = model.predict(X_test)\n",
    "        score = accuracy_score(y_test, predictions) \n",
    "        scores.append(score)\n",
    "    return np.mean(scores)\n",
    "# Создание модели k-NN\n",
    "list_cv=[]\n",
    "knn = KNearestNeighbors(n_neighbors=best_n)\n",
    "for i in range (2,12,1):\n",
    "    knn = KNearestNeighbors(n_neighbors=best_n)\n",
    "    cv_score = cross_validation(X1_test, y1_test, knn, k=i)\n",
    "    list_cv.append(cv_score)\n",
    "best_cv=max(list_cv)\n",
    "best_cvn=2+list_cv.index(best_cv)\n",
    "# Мы нашли лучшее количество фолдов\n",
    "\n",
    "best_cvn\n",
    "\n",
    "# cv_score = cross_validation(X1_test, y1_test, knn, k=20)\n",
    "# print(f\"Средняя метрика качества на кросс-валидации: {cv_score}\")\n"
   ]
  },
  {
   "cell_type": "code",
   "execution_count": null,
   "metadata": {},
   "outputs": [
    {
     "data": {
      "text/plain": [
       "0.9778656126482215"
      ]
     },
     "execution_count": 446,
     "metadata": {},
     "output_type": "execute_result"
    }
   ],
   "source": [
    "knn_best= cross_validation(X1_train, y1_train, knn, k=best_cvn)\n",
    "knn_best"
   ]
  },
  {
   "cell_type": "markdown",
   "metadata": {},
   "source": [
    "И библиотечная реализация"
   ]
  },
  {
   "cell_type": "code",
   "execution_count": 491,
   "metadata": {},
   "outputs": [
    {
     "data": {
      "text/plain": [
       "0.9675324675324676"
      ]
     },
     "execution_count": 491,
     "metadata": {},
     "output_type": "execute_result"
    }
   ],
   "source": [
    "#KNN\n",
    "scoreList = []\n",
    "i_values=[]\n",
    "for i in range(1, 20, 1):\n",
    "    knn2 = KNeighborsClassifier(n_neighbors = i)\n",
    "    knn2.fit(X_train_scaled, y_train)\n",
    "    scoreList.append(knn2.score(X_test_scaled, y_test))\n",
    "    i_values.append(i)\n",
    "max_score = max(scoreList)\n",
    "max_index = scoreList.index(max_score)  # Индекс максимального значения\n",
    "best_i = 1+i_values[max_index]      \n",
    "knn1 = KNeighborsClassifier(n_neighbors = best_i)  \n",
    "knn1.fit(X_train_scaled, y_train)\n",
    "prediction = knn1.predict(X_test_scaled)\n",
    "accuracy_knn = accuracy_score(y_test, prediction)\n",
    "\n",
    "accuracy_knn\n",
    "\n",
    "\n",
    "\n"
   ]
  },
  {
   "cell_type": "markdown",
   "metadata": {},
   "source": [
    "LOGISTIC REGRESSION"
   ]
  },
  {
   "cell_type": "code",
   "execution_count": null,
   "metadata": {},
   "outputs": [
    {
     "data": {
      "text/plain": [
       "0.30001000000000005"
      ]
     },
     "execution_count": 434,
     "metadata": {},
     "output_type": "execute_result"
    }
   ],
   "source": [
    "param_grid = {'C': np.arange(1e-05, 5, 0.1)}\n",
    "scoring = {'Accuracy': 'accuracy', 'AUC': 'roc_auc', 'Log_loss': 'neg_log_loss'}\n",
    "\n",
    "gs = GridSearchCV(LogisticRegression(max_iter=10000), return_train_score=True,\n",
    "                  param_grid=param_grid, scoring=scoring, cv=5, refit='Accuracy')\n",
    "\n",
    "gs.fit(X_train_scaled, y_train)\n",
    "results = gs.cv_results_\n",
    "best_C=gs.best_estimator_.C\n",
    "best_C\n",
    "\n"
   ]
  },
  {
   "cell_type": "code",
   "execution_count": 490,
   "metadata": {},
   "outputs": [
    {
     "data": {
      "text/plain": [
       "0.8116883116883117"
      ]
     },
     "execution_count": 490,
     "metadata": {},
     "output_type": "execute_result"
    }
   ],
   "source": [
    "\n",
    "model_logistic1 = LogisticRegression(max_iter=10000,C=best_C)\n",
    "model_logistic1.fit(X_train_scaled,y_train)\n",
    "y_pred = model_logistic1.predict(X_test_scaled)\n",
    "accuracy_logistic = accuracy_score(y_test, y_pred)\n",
    "accuracy_logistic"
   ]
  },
  {
   "cell_type": "markdown",
   "metadata": {},
   "source": [
    "SVM"
   ]
  },
  {
   "cell_type": "code",
   "execution_count": null,
   "metadata": {},
   "outputs": [],
   "source": [
    "# подберем лучшие параметры\n",
    "C = [0.1, 0.25, 0.5, 0.75, 1, 2]\n",
    "kernel = [\"linear\", \"rbf\"]\n",
    "gamma = [\"scale\", \"auto\", 0.0001, 0.001, 0.01, 0.1, 1]\n",
    "\n",
    "cv = StratifiedKFold(10)\n",
    "svm = SVC(random_state=11)\n",
    "grid_svm = GridSearchCV(estimator=svm, cv=cv, \n",
    "        param_grid=dict(kernel=kernel,C=C, gamma=gamma))\n",
    "grid_svm.fit(X_train_scaled, y_train)\n",
    "best_C_SVM=grid_svm.best_estimator_.C\n",
    "best_kernel_SVM=grid_svm.best_estimator_.kernel\n",
    "best_gamma_SVM=grid_svm.best_estimator_.gamma"
   ]
  },
  {
   "cell_type": "code",
   "execution_count": 489,
   "metadata": {},
   "outputs": [
    {
     "data": {
      "text/plain": [
       "0.9318181818181818"
      ]
     },
     "execution_count": 489,
     "metadata": {},
     "output_type": "execute_result"
    }
   ],
   "source": [
    "#SVM\n",
    "svm1 = SVC(random_state = 12,C=best_C_SVM,kernel=best_kernel_SVM,gamma=best_gamma_SVM)\n",
    "svm1.fit(X_train_scaled, y_train)\n",
    "prediction = svm1.predict(X_test_scaled)\n",
    "accuracy_svm = accuracy_score(y_test, prediction)\n",
    "\n",
    "acc = svm1.score(X_test_scaled, y_test)\n",
    "accuracy_svm"
   ]
  },
  {
   "cell_type": "markdown",
   "metadata": {},
   "source": [
    "NAIVE BAYES"
   ]
  },
  {
   "cell_type": "code",
   "execution_count": 487,
   "metadata": {},
   "outputs": [
    {
     "data": {
      "text/plain": [
       "0.7922077922077922"
      ]
     },
     "execution_count": 487,
     "metadata": {},
     "output_type": "execute_result"
    }
   ],
   "source": [
    "# NAIVE BAYES\n",
    "# найдем лучшие параметры\n",
    "priors=[[0.1,0.9],[0.2,0.8],[0.3, 0.7],[0.4,0.6],[0.5,0.5],[0.6,0.4],[0.7,0.3],[0.8,0.2],[0.9,0.1]]\n",
    "var_smoothing=(1e-9,1e-8)\n",
    "cv = StratifiedKFold(10)\n",
    "nb = GaussianNB()\n",
    "grid_nb = GridSearchCV(estimator=nb, cv=cv, \n",
    "        param_grid=dict(priors=priors,var_smoothing=var_smoothing))\n",
    "grid_nb.fit(X_train_scaled,y_train)\n",
    "best_p_nb=grid_nb.best_estimator_.priors\n",
    "best_vs_nb=grid_nb.best_estimator_.var_smoothing\n",
    "nb_best1 = GaussianNB(priors=best_p_nb,var_smoothing=best_vs_nb)\n",
    "nb_best1.fit(X_train_scaled, y_train)\n",
    "prediction=nb_best1.predict(X_test_scaled)\n",
    "accuracy_bayes= accuracy_score(y_test,prediction)\n",
    "\n",
    "accuracy_bayes"
   ]
  },
  {
   "cell_type": "markdown",
   "metadata": {},
   "source": [
    "DECISION TREE"
   ]
  },
  {
   "cell_type": "code",
   "execution_count": null,
   "metadata": {},
   "outputs": [],
   "source": [
    "#подберем лучшие параметры\n",
    "\n",
    "criterion = [\"gini\", \"entropy\", \"log_loss\"]\n",
    "splitter = [\"best\", \"random\"]\n",
    "max_depth = [2, 3, 4, 5, 10, 20]\n",
    "min_samples_split = [2, 4, 5, 10]\n",
    "min_samples_leaf = [1, 2, 4, 6]\n",
    "max_features = [2, 4, 6, 8]\n",
    "cv = StratifiedKFold(10)\n",
    "dtc = DecisionTreeClassifier(random_state=42)\n",
    "grid_dt = GridSearchCV(estimator=dtc, cv=cv, \n",
    "        param_grid=dict(criterion=criterion,splitter=splitter, max_depth=max_depth,\n",
    "                        min_samples_split=min_samples_split, min_samples_leaf=min_samples_leaf,\n",
    "                        max_features= max_features))\n",
    "grid_dt.fit(X_train_scaled, y_train)\n",
    "best_crit_DTC=grid_dt.best_estimator_.criterion\n",
    "best_split_DTC=grid_dt.best_estimator_.splitter\n",
    "best_md_DTC=grid_dt.best_estimator_.max_depth\n",
    "best_mss_DTC=grid_dt.best_estimator_.min_samples_split\n",
    "best_msl_DTC=grid_dt.best_estimator_.min_samples_leaf\n",
    "best_mf_DTC=grid_dt.best_estimator_.max_features\n",
    "\n",
    "\n",
    "# dtc_final=dtc.best_estimator_\n",
    "\n",
    "# prediction=dtc_final.predict(X_test_scaled)\n",
    "# accuracy_tree= accuracy_score(y_test,prediction)\n",
    "# accuracy_tree"
   ]
  },
  {
   "cell_type": "code",
   "execution_count": 486,
   "metadata": {},
   "outputs": [
    {
     "data": {
      "text/plain": [
       "0.9805194805194806"
      ]
     },
     "execution_count": 486,
     "metadata": {},
     "output_type": "execute_result"
    }
   ],
   "source": [
    "dtc_best1=DecisionTreeClassifier(random_state=42,criterion=best_crit_DTC,splitter=best_split_DTC,max_depth=best_md_DTC,min_samples_leaf=best_msl_DTC,min_samples_split=best_mss_DTC,max_features=best_mf_DTC)\n",
    "dtc_best1.fit(X_train_scaled,y_train)\n",
    "prediction=dtc_best1.predict(X_test_scaled)\n",
    "accuracy_tree= accuracy_score(y_test,prediction)\n",
    "accuracy_tree\n"
   ]
  },
  {
   "cell_type": "markdown",
   "metadata": {},
   "source": [
    "Реализуем еще один метод LinearDiscriminantAnalysis"
   ]
  },
  {
   "cell_type": "code",
   "execution_count": null,
   "metadata": {},
   "outputs": [],
   "source": [
    "class LDA:\n",
    "    def __init__(self, n_components=5):\n",
    "        self.n_components = n_components\n",
    "\n",
    "    def fit(self, X, y):\n",
    "        n_samples, n_features = X.shape\n",
    "        classes, cls_counts = np.unique(y, return_counts=True)\n",
    "        priors = cls_counts / n_samples\n",
    "\n",
    "        X_cls_mean = np.array([X[y == cls].mean(axis=0) for cls in classes])\n",
    "        between_cls_deviation = X_cls_mean - X.mean(axis=0)\n",
    "        within_cls_deviation = X - X_cls_mean[y]\n",
    "\n",
    "        Sb = priors * between_cls_deviation.T @ between_cls_deviation\n",
    "        Sw = within_cls_deviation.T @ within_cls_deviation / n_samples\n",
    "        evals, evecs = sp_eigh(Sb, Sw)\n",
    "        self.dvecs = evecs[:, np.argsort(evals)[::-1]]   # discriminant vectors\n",
    "\n",
    "        self.weights = X_cls_mean @ self.dvecs @ self.dvecs.T\n",
    "        self.bias = np.log(priors) - 0.5 * np.diag(X_cls_mean @ self.weights.T)\n",
    "\n",
    "        if self.n_components is None:\n",
    "            self.n_components = min(classes.size - 1, n_features)\n",
    "\n",
    "    def transform(self, X):\n",
    "        return X @ self.dvecs[:, : self.n_components]\n",
    "\n",
    "    def predict(self, X_test):\n",
    "        scores = X_test @ self.weights.T + self.bias\n",
    "\n",
    "        return np.argmax(scores, axis=1)"
   ]
  },
  {
   "cell_type": "code",
   "execution_count": null,
   "metadata": {},
   "outputs": [
    {
     "data": {
      "text/plain": [
       "0.814935064935065"
      ]
     },
     "execution_count": 429,
     "metadata": {},
     "output_type": "execute_result"
    }
   ],
   "source": [
    "LDA = LDA()\n",
    "LDA.fit(X_train_scaled, y_train)\n",
    "    # Делаем предсказания\n",
    "X_test_pred = LDA.predict(X_test_scaled)\n",
    "accuracy = accuracy_score(y_test, X_test_pred)\n",
    "accuracy"
   ]
  },
  {
   "cell_type": "markdown",
   "metadata": {},
   "source": [
    "И библиотечная реализация"
   ]
  },
  {
   "cell_type": "code",
   "execution_count": null,
   "metadata": {},
   "outputs": [
    {
     "data": {
      "text/plain": [
       "0.814935064935065"
      ]
     },
     "execution_count": 431,
     "metadata": {},
     "output_type": "execute_result"
    }
   ],
   "source": [
    "lda = LinearDiscriminantAnalysis(solver='eigen')\n",
    "lda.fit(X_train_scaled, y_train)\n",
    "prediction=lda.predict(X_test_scaled)\n",
    "accuracy_clf= accuracy_score(y_test,prediction)\n",
    "accuracy_clf"
   ]
  },
  {
   "cell_type": "markdown",
   "metadata": {},
   "source": [
    "Подберем для нее гиперпараметры"
   ]
  },
  {
   "cell_type": "code",
   "execution_count": 485,
   "metadata": {},
   "outputs": [
    {
     "data": {
      "text/plain": [
       "0.814935064935065"
      ]
     },
     "execution_count": 485,
     "metadata": {},
     "output_type": "execute_result"
    }
   ],
   "source": [
    "solver=['svd','lsqr','eigen']\n",
    "priors=[[0.5,0.5]]\n",
    "cv = StratifiedKFold(10)\n",
    "\n",
    "lda = LinearDiscriminantAnalysis()\n",
    "grid_lda = GridSearchCV(estimator=lda, cv=cv, \n",
    "        param_grid=dict(solver=solver,priors=priors))\n",
    "\n",
    "grid_lda.fit(X_train_scaled,y_train)\n",
    "best_s_lda=grid_lda.best_estimator_.solver\n",
    "best_p_lda=grid_lda.best_estimator_.priors\n",
    "\n",
    "lda1 = LinearDiscriminantAnalysis(solver=best_s_lda,priors=best_p_lda)\n",
    "lda1.fit(X_train_scaled, y_train)\n",
    "prediction=lda1.predict(X_test_scaled)\n",
    "accuracy_lda= accuracy_score(y_test,prediction)\n",
    "\n",
    "accuracy_lda"
   ]
  },
  {
   "cell_type": "markdown",
   "metadata": {},
   "source": [
    "Сделаем CONFUSION MATRIX для всех моделей"
   ]
  },
  {
   "cell_type": "code",
   "execution_count": 498,
   "metadata": {},
   "outputs": [
    {
     "data": {
      "image/png": "[encoded data removed]",
      "text/plain": [
       "<Figure size 2400x1200 with 6 Axes>"
      ]
     },
     "metadata": {},
     "output_type": "display_data"
    }
   ],
   "source": [
    "y_knn_head=knn_clf1.predict(X1_test)\n",
    "y_logistic_head = model_logistic1.predict(X_test_scaled)\n",
    "y_svm_head = svm1.predict(X_test_scaled)\n",
    "y_nb_head=nb_best1.predict(X_test_scaled)\n",
    "y_dtc_head=dtc_best1.predict(X_test_scaled)\n",
    "y_LDA_head = lda1.predict(X_test_scaled)\n",
    "\n",
    "\n",
    "cm_knn = confusion_matrix(y1_test, y_knn_head)\n",
    "cm_logistic = confusion_matrix(y_test, y_logistic_head)\n",
    "cm_svm = confusion_matrix(y_test, y_svm_head)\n",
    "cm_nb = confusion_matrix(y_test, y_nb_head)\n",
    "cm_dtc = confusion_matrix(y_test, y_dtc_head)\n",
    "cm_LDA = confusion_matrix(y_test, y_LDA_head)\n",
    "\n",
    "plt.figure(figsize=(24, 12))\n",
    "\n",
    "plt.suptitle(\"Confusion Matrices\", fontsize=24)\n",
    "plt.subplots_adjust(wspace = 0.4, hspace= 0.4)\n",
    "\n",
    "plt.subplot(2,3,1)\n",
    "plt.title(\"K-Nearest Neighbour\")\n",
    "sns.heatmap(cm_knn,annot=True,cmap=\"Blues\",fmt=\"d\",cbar=False, annot_kws={\"size\": 24})\n",
    "\n",
    "plt.subplot(2,3,2)\n",
    "plt.title(\"Logistic Regression\")\n",
    "sns.heatmap(cm_logistic,annot=True,cmap=\"Blues\",fmt=\"d\",cbar=False, annot_kws={\"size\": 24})\n",
    "\n",
    "plt.subplot(2,3,3)\n",
    "plt.title(\"Support Vector Machine \")\n",
    "sns.heatmap(cm_svm,annot=True,cmap=\"Blues\",fmt=\"d\",cbar=False, annot_kws={\"size\": 24})\n",
    "\n",
    "plt.subplot(2,3,4)\n",
    "plt.title(\"Naive Bayes\")\n",
    "sns.heatmap(cm_nb,annot=True,cmap=\"Blues\",fmt=\"d\",cbar=False, annot_kws={\"size\": 24})\n",
    "\n",
    "plt.subplot(2,3,5)\n",
    "plt.title(\"Decision Tree Classifier\")\n",
    "sns.heatmap(cm_dtc,annot=True,cmap=\"Blues\",fmt=\"d\",cbar=False, annot_kws={\"size\": 24})\n",
    "\n",
    "plt.subplot(2,3,6)\n",
    "plt.title(\"LinearDiscriminantAnalysis\")\n",
    "sns.heatmap(cm_LDA,annot=True,cmap=\"Blues\",fmt=\"d\",cbar=False, annot_kws={\"size\": 24})\n",
    "\n",
    "plt.show()"
   ]
  },
  {
   "cell_type": "markdown",
   "metadata": {},
   "source": [
    "Исходя из данной матрицы, можем увидеть, что наилучшие результаты дает модель Support Vector Machine, Decision Tree Classifier и метод k- ближайших соседей.  Однако количество ложно отрицательных для  метода k- ближайших соседей все же меньше. Support Vector Machine в том числе показывает сравнительно неплохи результаты. Самое худшее качество показывают модели Naive Bayes и LinearDiscriminantAnalysis. "
   ]
  },
  {
   "cell_type": "markdown",
   "metadata": {},
   "source": [
    "Для анализа я планирую взять таблицу, с которой я работал ранее, по ней я обучал модель регрессии для получения стоимости автомобиля, теперь я собираюсь получать данные о наличии аварий у автомобиля по выборке, где 0- аварий не было, 1- были аварии"
   ]
  },
  {
   "cell_type": "code",
   "execution_count": null,
   "metadata": {},
   "outputs": [],
   "source": [
    "\n",
    "\n",
    "df2=pd.read_csv(r'C:\\Users\\yaneg\\.git\\py\\ml\\car_price_w.csv')\n",
    "df2\n",
    "y2=df2['accident']\n",
    "X2=df2.drop(columns=['accident'])\n",
    "X2_train,X2_test,y2_train,y2_test=train_test_split(X2, y2, test_size = 0.3, random_state=42)\n",
    "\n",
    "scaler = StandardScaler()  # воспользуемся стандартным трансформером\n",
    "\n",
    "# масштабируем обучающую выборку и запоминаем среднее, стандартное отклонение признаков\n",
    "X2_train_scaled = scaler.fit_transform(X2_train)\n",
    "\n",
    "# масштабируем тестовую выборку используя статистики обучающей выборки\n",
    "X2_test_scaled = scaler.transform(X2_test)"
   ]
  },
  {
   "cell_type": "code",
   "execution_count": null,
   "metadata": {},
   "outputs": [
    {
     "data": {
      "text/html": [
       "<div>\n",
       "<style scoped>\n",
       "    .dataframe tbody tr th:only-of-type {\n",
       "        vertical-align: middle;\n",
       "    }\n",
       "\n",
       "    .dataframe tbody tr th {\n",
       "        vertical-align: top;\n",
       "    }\n",
       "\n",
       "    .dataframe thead th {\n",
       "        text-align: right;\n",
       "    }\n",
       "</style>\n",
       "<table border=\"1\" class=\"dataframe\">\n",
       "  <thead>\n",
       "    <tr style=\"text-align: right;\">\n",
       "      <th></th>\n",
       "      <th>milage</th>\n",
       "      <th>transmission</th>\n",
       "      <th>brand_cat</th>\n",
       "      <th>age</th>\n",
       "      <th>fuel_cat</th>\n",
       "      <th>ext_col_cat</th>\n",
       "      <th>int_col_cat</th>\n",
       "      <th>hp</th>\n",
       "      <th>price</th>\n",
       "    </tr>\n",
       "  </thead>\n",
       "  <tbody>\n",
       "    <tr>\n",
       "      <th>226</th>\n",
       "      <td>41000.0</td>\n",
       "      <td>3</td>\n",
       "      <td>2</td>\n",
       "      <td>6</td>\n",
       "      <td>0</td>\n",
       "      <td>3</td>\n",
       "      <td>1</td>\n",
       "      <td>563.000000</td>\n",
       "      <td>108900.0</td>\n",
       "    </tr>\n",
       "    <tr>\n",
       "      <th>2819</th>\n",
       "      <td>116000.0</td>\n",
       "      <td>2</td>\n",
       "      <td>1</td>\n",
       "      <td>11</td>\n",
       "      <td>0</td>\n",
       "      <td>2</td>\n",
       "      <td>1</td>\n",
       "      <td>173.000000</td>\n",
       "      <td>12500.0</td>\n",
       "    </tr>\n",
       "    <tr>\n",
       "      <th>535</th>\n",
       "      <td>25025.0</td>\n",
       "      <td>2</td>\n",
       "      <td>3</td>\n",
       "      <td>16</td>\n",
       "      <td>0</td>\n",
       "      <td>1</td>\n",
       "      <td>1</td>\n",
       "      <td>380.000000</td>\n",
       "      <td>39000.0</td>\n",
       "    </tr>\n",
       "    <tr>\n",
       "      <th>3193</th>\n",
       "      <td>94100.0</td>\n",
       "      <td>2</td>\n",
       "      <td>2</td>\n",
       "      <td>7</td>\n",
       "      <td>1</td>\n",
       "      <td>1</td>\n",
       "      <td>2</td>\n",
       "      <td>518.000000</td>\n",
       "      <td>49900.0</td>\n",
       "    </tr>\n",
       "    <tr>\n",
       "      <th>3224</th>\n",
       "      <td>13856.0</td>\n",
       "      <td>2</td>\n",
       "      <td>1</td>\n",
       "      <td>2</td>\n",
       "      <td>1</td>\n",
       "      <td>1</td>\n",
       "      <td>1</td>\n",
       "      <td>480.000000</td>\n",
       "      <td>54000.0</td>\n",
       "    </tr>\n",
       "    <tr>\n",
       "      <th>...</th>\n",
       "      <td>...</td>\n",
       "      <td>...</td>\n",
       "      <td>...</td>\n",
       "      <td>...</td>\n",
       "      <td>...</td>\n",
       "      <td>...</td>\n",
       "      <td>...</td>\n",
       "      <td>...</td>\n",
       "      <td>...</td>\n",
       "    </tr>\n",
       "    <tr>\n",
       "      <th>1130</th>\n",
       "      <td>110000.0</td>\n",
       "      <td>2</td>\n",
       "      <td>1</td>\n",
       "      <td>18</td>\n",
       "      <td>0</td>\n",
       "      <td>3</td>\n",
       "      <td>1</td>\n",
       "      <td>275.000000</td>\n",
       "      <td>5000.0</td>\n",
       "    </tr>\n",
       "    <tr>\n",
       "      <th>1294</th>\n",
       "      <td>120000.0</td>\n",
       "      <td>2</td>\n",
       "      <td>1</td>\n",
       "      <td>29</td>\n",
       "      <td>0</td>\n",
       "      <td>1</td>\n",
       "      <td>2</td>\n",
       "      <td>303.309641</td>\n",
       "      <td>6500.0</td>\n",
       "    </tr>\n",
       "    <tr>\n",
       "      <th>860</th>\n",
       "      <td>131193.0</td>\n",
       "      <td>2</td>\n",
       "      <td>1</td>\n",
       "      <td>8</td>\n",
       "      <td>0</td>\n",
       "      <td>1</td>\n",
       "      <td>1</td>\n",
       "      <td>221.760000</td>\n",
       "      <td>11970.0</td>\n",
       "    </tr>\n",
       "    <tr>\n",
       "      <th>3507</th>\n",
       "      <td>48619.0</td>\n",
       "      <td>2</td>\n",
       "      <td>1</td>\n",
       "      <td>6</td>\n",
       "      <td>0</td>\n",
       "      <td>3</td>\n",
       "      <td>1</td>\n",
       "      <td>400.000000</td>\n",
       "      <td>51499.0</td>\n",
       "    </tr>\n",
       "    <tr>\n",
       "      <th>3174</th>\n",
       "      <td>36000.0</td>\n",
       "      <td>2</td>\n",
       "      <td>1</td>\n",
       "      <td>5</td>\n",
       "      <td>0</td>\n",
       "      <td>1</td>\n",
       "      <td>1</td>\n",
       "      <td>245.000000</td>\n",
       "      <td>26500.0</td>\n",
       "    </tr>\n",
       "  </tbody>\n",
       "</table>\n",
       "<p>2806 rows × 9 columns</p>\n",
       "</div>"
      ],
      "text/plain": [
       "        milage  transmission  brand_cat  age  fuel_cat  ext_col_cat  \\\n",
       "226    41000.0             3          2    6         0            3   \n",
       "2819  116000.0             2          1   11         0            2   \n",
       "535    25025.0             2          3   16         0            1   \n",
       "3193   94100.0             2          2    7         1            1   \n",
       "3224   13856.0             2          1    2         1            1   \n",
       "...        ...           ...        ...  ...       ...          ...   \n",
       "1130  110000.0             2          1   18         0            3   \n",
       "1294  120000.0             2          1   29         0            1   \n",
       "860   131193.0             2          1    8         0            1   \n",
       "3507   48619.0             2          1    6         0            3   \n",
       "3174   36000.0             2          1    5         0            1   \n",
       "\n",
       "      int_col_cat          hp     price  \n",
       "226             1  563.000000  108900.0  \n",
       "2819            1  173.000000   12500.0  \n",
       "535             1  380.000000   39000.0  \n",
       "3193            2  518.000000   49900.0  \n",
       "3224            1  480.000000   54000.0  \n",
       "...           ...         ...       ...  \n",
       "1130            1  275.000000    5000.0  \n",
       "1294            2  303.309641    6500.0  \n",
       "860             1  221.760000   11970.0  \n",
       "3507            1  400.000000   51499.0  \n",
       "3174            1  245.000000   26500.0  \n",
       "\n",
       "[2806 rows x 9 columns]"
      ]
     },
     "execution_count": 459,
     "metadata": {},
     "output_type": "execute_result"
    }
   ],
   "source": [
    "X2_train"
   ]
  },
  {
   "cell_type": "code",
   "execution_count": 499,
   "metadata": {},
   "outputs": [
    {
     "data": {
      "text/plain": [
       "0.742310889443059"
      ]
     },
     "execution_count": 499,
     "metadata": {},
     "output_type": "execute_result"
    }
   ],
   "source": [
    "#KNN\n",
    "scoreList = []\n",
    "i_values=[]\n",
    "for i in range(1, 20, 1):\n",
    "    knn2 = KNeighborsClassifier(n_neighbors = i)\n",
    "    knn2.fit(X2_train_scaled, y2_train)\n",
    "    scoreList.append(knn2.score(X2_test_scaled, y2_test))\n",
    "    i_values.append(i)\n",
    "max_score = max(scoreList)\n",
    "max_index = scoreList.index(max_score)  # Индекс максимального значения\n",
    "best_i = 1+i_values[max_index]      \n",
    "knn2 = KNeighborsClassifier(n_neighbors = best_i)  \n",
    "knn2.fit(X2_train_scaled, y2_train)\n",
    "prediction = knn2.predict(X2_test_scaled)\n",
    "accuracy_knn = accuracy_score(y2_test, prediction)\n",
    "\n",
    "accuracy_knn"
   ]
  },
  {
   "cell_type": "code",
   "execution_count": 500,
   "metadata": {},
   "outputs": [
    {
     "data": {
      "text/plain": [
       "0.7489609310058188"
      ]
     },
     "execution_count": 500,
     "metadata": {},
     "output_type": "execute_result"
    }
   ],
   "source": [
    "#LR\n",
    "param_grid = {'C': np.arange(1e-05, 5, 0.1)}\n",
    "scoring = {'Accuracy': 'accuracy', 'AUC': 'roc_auc', 'Log_loss': 'neg_log_loss'}\n",
    "\n",
    "gs = GridSearchCV(LogisticRegression(max_iter=10000), return_train_score=True,\n",
    "                  param_grid=param_grid, scoring=scoring, cv=5, refit='Accuracy')\n",
    "\n",
    "gs.fit(X2_train_scaled, y2_train)\n",
    "results = gs.cv_results_\n",
    "best_C=gs.best_estimator_.C\n",
    "best_C\n",
    "model_logistic2 = LogisticRegression(max_iter=10000,C=best_C)\n",
    "model_logistic2.fit(X2_train_scaled,y2_train)\n",
    "y2_pred = model_logistic2.predict(X2_test_scaled)\n",
    "accuracy_logistic = accuracy_score(y2_test, y2_pred)\n",
    "accuracy_logistic"
   ]
  },
  {
   "cell_type": "code",
   "execution_count": 508,
   "metadata": {},
   "outputs": [
    {
     "data": {
      "text/plain": [
       "0.7464671654197839"
      ]
     },
     "execution_count": 508,
     "metadata": {},
     "output_type": "execute_result"
    }
   ],
   "source": [
    "# SVM\n",
    "C = [0.1, 0.25, 0.5, 0.75, 1, 2]\n",
    "kernel = [\"linear\", \"rbf\"]\n",
    "gamma = [\"scale\", \"auto\", 0.0001, 0.001, 0.01, 0.1, 1]\n",
    "\n",
    "cv = StratifiedKFold(10)\n",
    "svm = SVC(random_state=11)\n",
    "grid_svm = GridSearchCV(estimator=svm, cv=cv, \n",
    "        param_grid=dict(kernel=kernel,C=C, gamma=gamma))\n",
    "grid_svm.fit(X2_train_scaled, y2_train)\n",
    "best_C_SVM=grid_svm.best_estimator_.C\n",
    "best_kernel_SVM=grid_svm.best_estimator_.kernel\n",
    "best_gamma_SVM=grid_svm.best_estimator_.gamma\n",
    "svm2 = SVC(random_state = 12,C=best_C_SVM,kernel=best_kernel_SVM,gamma=best_gamma_SVM)\n",
    "svm2.fit(X2_train_scaled, y2_train)\n",
    "prediction = svm2.predict(X2_test_scaled)\n",
    "accuracy_svm = accuracy_score(y2_test, prediction)\n",
    "\n",
    "acc = svm2.score(X2_test_scaled, y2_test)\n",
    "accuracy_svm"
   ]
  },
  {
   "cell_type": "code",
   "execution_count": 501,
   "metadata": {},
   "outputs": [
    {
     "data": {
      "text/plain": [
       "0.6982543640897756"
      ]
     },
     "execution_count": 501,
     "metadata": {},
     "output_type": "execute_result"
    }
   ],
   "source": [
    "# NAIVE BAYES\n",
    "# найдем лучшие параметры\n",
    "priors=[[0.1,0.9],[0.2,0.8],[0.3, 0.7],[0.4,0.6],[0.5,0.5],[0.6,0.4],[0.7,0.3],[0.8,0.2],[0.9,0.1]]\n",
    "var_smoothing=(1e-9,1e-8)\n",
    "cv = StratifiedKFold(10)\n",
    "nb = GaussianNB()\n",
    "grid_nb = GridSearchCV(estimator=nb, cv=cv, \n",
    "        param_grid=dict(priors=priors,var_smoothing=var_smoothing))\n",
    "grid_nb.fit(X2_train_scaled,y2_train)\n",
    "best_p_nb=grid_nb.best_estimator_.priors\n",
    "best_vs_nb=grid_nb.best_estimator_.var_smoothing\n",
    "nb_best2 = GaussianNB(priors=best_p_nb,var_smoothing=best_vs_nb)\n",
    "nb_best2.fit(X2_train_scaled, y2_train)\n",
    "prediction=nb_best2.predict(X2_test_scaled)\n",
    "accuracy_bayes= accuracy_score(y2_test,prediction)\n",
    "\n",
    "accuracy_bayes"
   ]
  },
  {
   "cell_type": "code",
   "execution_count": 502,
   "metadata": {},
   "outputs": [
    {
     "data": {
      "text/plain": [
       "0.6691604322527016"
      ]
     },
     "execution_count": 502,
     "metadata": {},
     "output_type": "execute_result"
    }
   ],
   "source": [
    "#DECISION TREE\n",
    "\n",
    "criterion = [\"gini\", \"entropy\", \"log_loss\"]\n",
    "splitter = [\"best\", \"random\"]\n",
    "max_depth = [2, 3, 4, 5, 10, 20]\n",
    "min_samples_split = [2, 4, 5, 10]\n",
    "min_samples_leaf = [1, 2, 4, 6]\n",
    "max_features = [2, 4, 6, 8]\n",
    "cv = StratifiedKFold(10)\n",
    "dtc = DecisionTreeClassifier(random_state=42)\n",
    "grid_dt = GridSearchCV(estimator=dtc, cv=cv, \n",
    "        param_grid=dict(criterion=criterion,splitter=splitter, max_depth=max_depth,\n",
    "                        min_samples_split=min_samples_split, min_samples_leaf=min_samples_leaf,\n",
    "                        max_features= max_features))\n",
    "grid_dt.fit(X_train_scaled, y_train)\n",
    "best_crit_DTC=grid_dt.best_estimator_.criterion\n",
    "best_split_DTC=grid_dt.best_estimator_.splitter\n",
    "best_md_DTC=grid_dt.best_estimator_.max_depth\n",
    "best_mss_DTC=grid_dt.best_estimator_.min_samples_split\n",
    "best_msl_DTC=grid_dt.best_estimator_.min_samples_leaf\n",
    "best_mf_DTC=grid_dt.best_estimator_.max_features\n",
    "\n",
    "dtc_best2=DecisionTreeClassifier(random_state=42,criterion=best_crit_DTC,splitter=best_split_DTC,max_depth=best_md_DTC,min_samples_leaf=best_msl_DTC,min_samples_split=best_mss_DTC,max_features=best_mf_DTC)\n",
    "dtc_best2.fit(X2_train_scaled,y2_train)\n",
    "prediction=dtc_best2.predict(X2_test_scaled)\n",
    "accuracy_tree= accuracy_score(y2_test,prediction)\n",
    "accuracy_tree\n"
   ]
  },
  {
   "cell_type": "code",
   "execution_count": 506,
   "metadata": {},
   "outputs": [
    {
     "data": {
      "text/plain": [
       "0.6483790523690773"
      ]
     },
     "execution_count": 506,
     "metadata": {},
     "output_type": "execute_result"
    }
   ],
   "source": [
    "#LDA\n",
    "solver=['svd','lsqr','eigen']\n",
    "priors=[[0.5,0.5]]\n",
    "cv = StratifiedKFold(10)\n",
    "\n",
    "lda = LinearDiscriminantAnalysis()\n",
    "grid_lda = GridSearchCV(estimator=lda, cv=cv, \n",
    "        param_grid=dict(solver=solver,priors=priors))\n",
    "\n",
    "grid_lda.fit(X2_train_scaled,y2_train)\n",
    "best_s_lda=grid_lda.best_estimator_.solver\n",
    "best_p_lda=grid_lda.best_estimator_.priors\n",
    "\n",
    "lda2 = LinearDiscriminantAnalysis(solver=best_s_lda,priors=best_p_lda)\n",
    "lda2.fit(X2_train_scaled, y2_train)\n",
    "prediction=lda2.predict(X2_test_scaled)\n",
    "accuracy_lda= accuracy_score(y2_test,prediction)\n",
    "\n",
    "accuracy_lda"
   ]
  },
  {
   "cell_type": "code",
   "execution_count": 509,
   "metadata": {},
   "outputs": [
    {
     "name": "stderr",
     "output_type": "stream",
     "text": [
      "c:\\Users\\yaneg\\anaconda3\\Lib\\site-packages\\sklearn\\base.py:457: UserWarning: X has feature names, but KNeighborsClassifier was fitted without feature names\n",
      "  warnings.warn(\n"
     ]
    },
    {
     "data": {
      "image/png": "[encoded data removed]",
      "text/plain": [
       "<Figure size 2400x1200 with 6 Axes>"
      ]
     },
     "metadata": {},
     "output_type": "display_data"
    }
   ],
   "source": [
    "y_knn_head=knn2.predict(X2_test)\n",
    "y_logistic_head = model_logistic2.predict(X2_test_scaled)\n",
    "y_svm_head = svm2.predict(X2_test_scaled)\n",
    "y_nb_head=nb_best2.predict(X2_test_scaled)\n",
    "y_dtc_head=dtc_best2.predict(X2_test_scaled)\n",
    "y_LDA_head = lda2.predict(X2_test_scaled)\n",
    "\n",
    "\n",
    "cm_knn = confusion_matrix(y2_test, y_knn_head)\n",
    "cm_logistic = confusion_matrix(y2_test, y_logistic_head)\n",
    "cm_svm = confusion_matrix(y2_test, y_svm_head)\n",
    "cm_nb = confusion_matrix(y2_test, y_nb_head)\n",
    "cm_dtc = confusion_matrix(y2_test, y_dtc_head)\n",
    "cm_LDA = confusion_matrix(y2_test, y_LDA_head)\n",
    "\n",
    "plt.figure(figsize=(24, 12))\n",
    "\n",
    "plt.suptitle(\"Confusion Matrices\", fontsize=24)\n",
    "plt.subplots_adjust(wspace = 0.4, hspace= 0.4)\n",
    "\n",
    "plt.subplot(2,3,1)\n",
    "plt.title(\"K-Nearest Neighbour\")\n",
    "sns.heatmap(cm_knn,annot=True,cmap=\"Blues\",fmt=\"d\",cbar=False, annot_kws={\"size\": 24})\n",
    "\n",
    "plt.subplot(2,3,2)\n",
    "plt.title(\"Logistic Regression\")\n",
    "sns.heatmap(cm_logistic,annot=True,cmap=\"Blues\",fmt=\"d\",cbar=False, annot_kws={\"size\": 24})\n",
    "\n",
    "plt.subplot(2,3,3)\n",
    "plt.title(\"Support Vector Machine \")\n",
    "sns.heatmap(cm_svm,annot=True,cmap=\"Blues\",fmt=\"d\",cbar=False, annot_kws={\"size\": 24})\n",
    "\n",
    "plt.subplot(2,3,4)\n",
    "plt.title(\"Naive Bayes\")\n",
    "sns.heatmap(cm_nb,annot=True,cmap=\"Blues\",fmt=\"d\",cbar=False, annot_kws={\"size\": 24})\n",
    "\n",
    "plt.subplot(2,3,5)\n",
    "plt.title(\"Decision Tree Classifier\")\n",
    "sns.heatmap(cm_dtc,annot=True,cmap=\"Blues\",fmt=\"d\",cbar=False, annot_kws={\"size\": 24})\n",
    "\n",
    "plt.subplot(2,3,6)\n",
    "plt.title(\"LinearDiscriminantAnalysis\")\n",
    "sns.heatmap(cm_LDA,annot=True,cmap=\"Blues\",fmt=\"d\",cbar=False, annot_kws={\"size\": 24})\n",
    "\n",
    "plt.show()"
   ]
  },
  {
   "cell_type": "markdown",
   "metadata": {},
   "source": [
    "В данном случае мы можем увидеть, что лучшие результаты true positive даю модели Логистической регрессии и Support Vector Machine, одннако они обладают и худшими показателями false negative. Самым худшим качеством true_postive обладает метод linear discriminant anlysis, при этом у него меньше всего false negative. Наиболее взвешенной получилась матрица k-ближайших соседей, более того общее количество ошибок у нее наименьшее. Скорее свего в данном случае стоит выбрать данную модель."
   ]
  },
  {
   "cell_type": "markdown",
   "metadata": {},
   "source": [
    "Также хочется сказать о том, что результаты CONFUSION MATRIX по наборам данных получились совершенно разные, что говорит о необходимости применения всех моделей, и выбора лучшей из них, поскольку их качество может варироваться от набора к набору."
   ]
  }
 ],
 "metadata": {
  "kernelspec": {
   "display_name": "base",
   "language": "python",
   "name": "python3"
  },
  "language_info": {
   "codemirror_mode": {
    "name": "ipython",
    "version": 3
   },
   "file_extension": ".py",
   "mimetype": "text/x-python",
   "name": "python",
   "nbconvert_exporter": "python",
   "pygments_lexer": "ipython3",
   "version": "3.11.4"
  }
 },
 "nbformat": 4,
 "nbformat_minor": 2
}
